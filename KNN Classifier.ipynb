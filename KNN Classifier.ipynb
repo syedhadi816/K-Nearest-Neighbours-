{
 "cells": [
  {
   "cell_type": "code",
   "execution_count": 381,
   "metadata": {},
   "outputs": [],
   "source": [
    "import numpy as np\n",
    "import csv\n",
    "import re\n",
    "import math\n",
    "import statistics as st"
   ]
  },
  {
   "cell_type": "code",
   "execution_count": 382,
   "metadata": {},
   "outputs": [],
   "source": [
    "#Importing train data\n",
    "with open('/Users/syedhadi/Desktop/Assignment5/train.csv') as file:\n",
    "    X = list()\n",
    "    Y = list()\n",
    "    iterator = csv.reader(file, delimiter=',')\n",
    "    i =0\n",
    "    for text in iterator:\n",
    "        X.append(np.array(text[:4], dtype= float))\n",
    "        Y.append(text[4:])\n",
    "        "
   ]
  },
  {
   "cell_type": "code",
   "execution_count": 383,
   "metadata": {},
   "outputs": [],
   "source": [
    "#Calculates Euclidean distance and return label of nearest distance \n",
    "def EuclidDist (T, k):\n",
    "    dist = list()\n",
    "    labels = list()\n",
    "    for i in range (len(X)-1):\n",
    "         dist.append(np.linalg.norm(X[i]-T))\n",
    "    unsorted_dist = dist.copy()\n",
    "    dist.sort()\n",
    "    for i in range (k):\n",
    "        labels.append(str(Y[unsorted_dist.index(dist[i])]))\n",
    "    return (st.mode(labels))"
   ]
  },
  {
   "cell_type": "code",
   "execution_count": 384,
   "metadata": {},
   "outputs": [],
   "source": [
    "#Test data loaded \n",
    "\n",
    "with open('/Users/syedhadi/Desktop/Assignment5/test.csv') as file:\n",
    "    X_test = list()\n",
    "    Y_test = list()\n",
    "    iterator = csv.reader(file, delimiter=',')\n",
    "    i =0\n",
    "    for text in iterator:\n",
    "        X_test.append(np.array(text[:4], dtype= float))\n",
    "        Y_test.append(str(text[4:]))"
   ]
  },
  {
   "cell_type": "code",
   "execution_count": 385,
   "metadata": {},
   "outputs": [],
   "source": [
    "#Testing the test data, storing labels \n",
    "k1 = list()\n",
    "k3 = list()\n",
    "k5 = list()\n",
    "\n",
    "for i in (X_test):\n",
    "    k1.append(EuclidDist(i,1))\n",
    "    k3.append(EuclidDist(i,3))\n",
    "    k5.append(EuclidDist(i,5))"
   ]
  },
  {
   "cell_type": "code",
   "execution_count": 386,
   "metadata": {},
   "outputs": [
    {
     "name": "stdout",
     "output_type": "stream",
     "text": [
      "Accuracy of K-NN Classifier \n",
      "For K=1, Accuracy =  100.0 %\n",
      "For K=3, Accuracy =  100.0 %\n",
      "For K=5, Accuracy =  100.0 %\n"
     ]
    }
   ],
   "source": [
    "#Accuracy \n",
    "t1=0\n",
    "t3=0\n",
    "t5=0\n",
    "for i in range (len(k1)):\n",
    "    if (k1[i] == (Y_test[i])):\n",
    "        t1+=1\n",
    "    if (k3[i] == Y_test[i]):\n",
    "        t3+=1\n",
    "    if (k5[i] == Y_test[i]):\n",
    "        t5+=1\n",
    "print(\"Accuracy of K-NN Classifier \")\n",
    "print(\"For K=1, Accuracy = \", t1/len(k1)*100,\"%\")\n",
    "print(\"For K=3, Accuracy = \", t3/len(k1)*100,\"%\")\n",
    "print(\"For K=5, Accuracy = \", t5/len(k1)*100,\"%\")"
   ]
  }
 ],
 "metadata": {
  "kernelspec": {
   "display_name": "Python 3",
   "language": "python",
   "name": "python3"
  },
  "language_info": {
   "codemirror_mode": {
    "name": "ipython",
    "version": 3
   },
   "file_extension": ".py",
   "mimetype": "text/x-python",
   "name": "python",
   "nbconvert_exporter": "python",
   "pygments_lexer": "ipython3",
   "version": "3.8.3rc1"
  }
 },
 "nbformat": 4,
 "nbformat_minor": 4
}
